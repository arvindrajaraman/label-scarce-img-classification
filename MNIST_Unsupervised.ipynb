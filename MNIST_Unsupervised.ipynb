{
 "cells": [
  {
   "cell_type": "markdown",
   "metadata": {
    "id": "bQnNZ6Otbvfk"
   },
   "source": [
    "# Simulating Unsupervised Image Classification in Label-Scarce Environments\n",
    "\n",
    "In this Jupyter notebook, I attempt to perform MNIST image classification by minimizing the number of calls to labels for images, in order to simulate working an an environment that is scarce of labeled data.\n",
    "\n",
    "First, I use a deep auto-encoder architecture to compress the $768$-dimensional representation of MNIST images to $32$ dimensions and to extract features.\n",
    "\n",
    "Then, I iteratively perform $k$-means clustering. In a certain iteration where we divide the data into $k$ clusters, I find the medoid of each cluster. The medoid of a cluster is the closest datapoint in the dataset to the centroid (\"average\" or numerical center) of that cluster. I query the medoid's label and assign that label to the entire cluster. I specifically query for the medoid's label in a cluster, because datapoints closer to the fringes have a higher chance of being misclassified; the medoid's label is more likely to be representative of the cluster.\n",
    "\n",
    "If for a certain $k$, the desired accuracy is not reached, then $k$ is doubled and we run $k$-means clustering again. The reason why we geometrically increase $k$ (doubling) instead of arithmetically increasing $k$ (adding a fixed value to $k$ in each iteration), because as follows: Let us say that the optimal $k$ where the accuracy is just above or equal to $0.9$ is $k'$. Then, the total images queried is as follows:\n",
    "\n",
    "$\\sum_{i=1}^{\\log_2{k'}} 2^i = 1 + 2 + 4 + \\ldots + k' = 2k' - 1$.\n",
    "\n",
    "In other words, the total images queried will be approximately twice compared to if we knew that $k'$ was the optimal $k$ before-hand (and we could just set $k=k'$ and query for $k'$ images from the start). This is a good bound.\n",
    "\n",
    "In total, I queried for $310$ images' labels. This means that $\\frac{60000-310}{60000}=99.5\\%$ of the dataset doesn't need to be labeled."
   ]
  },
  {
   "cell_type": "markdown",
   "metadata": {
    "id": "6wuozJ0YBE40"
   },
   "source": [
    "# Loading MNIST"
   ]
  },
  {
   "cell_type": "code",
   "execution_count": 18,
   "metadata": {
    "colab": {
     "base_uri": "https://localhost:8080/"
    },
    "id": "A3j2GdcvBE41",
    "outputId": "b1f610ab-8d46-4971-a79f-7780f2abbe2b"
   },
   "outputs": [
    {
     "name": "stdout",
     "output_type": "stream",
     "text": [
      "(60000, 784)\n",
      "(10000, 784)\n"
     ]
    }
   ],
   "source": [
    "from keras.datasets import mnist\n",
    "import numpy as np\n",
    "(x_train, y_train), (x_test, y_test) = mnist.load_data()\n",
    "\n",
    "x_train = x_train.astype('float32') / 255.\n",
    "x_test = x_test.astype('float32') / 255.\n",
    "x_train = x_train.reshape((len(x_train), np.prod(x_train.shape[1:])))\n",
    "x_test = x_test.reshape((len(x_test), np.prod(x_test.shape[1:])))\n",
    "\n",
    "print(x_train.shape)\n",
    "print(x_test.shape)"
   ]
  },
  {
   "cell_type": "markdown",
   "metadata": {
    "id": "nyC3Z2yDBE42"
   },
   "source": [
    "# Using an Auto-encoder to Reduce Dimensionality of Image Vectors"
   ]
  },
  {
   "cell_type": "code",
   "execution_count": 46,
   "metadata": {
    "id": "XWg61UPkBE42"
   },
   "outputs": [],
   "source": [
    "import keras\n",
    "from keras import layers\n",
    "\n",
    "input_img = keras.Input(shape=(784,))\n",
    "\n",
    "encoded = layers.Dense(256, activation='relu')(input_img)\n",
    "encoded = layers.Dense(128, activation='relu')(encoded)\n",
    "encoded = layers.Dense(64, activation='relu')(encoded)\n",
    "encoded = layers.Dense(32, activation='relu')(encoded)\n",
    "\n",
    "decoded = layers.Dense(64, activation='relu')(encoded)\n",
    "decoded = layers.Dense(128, activation='relu')(decoded)\n",
    "decoded = layers.Dense(256, activation='relu')(decoded)\n",
    "decoded = layers.Dense(784, activation='sigmoid')(decoded)"
   ]
  },
  {
   "cell_type": "code",
   "execution_count": 47,
   "metadata": {
    "colab": {
     "base_uri": "https://localhost:8080/"
    },
    "id": "u13U3vciBE42",
    "outputId": "e29a80cd-f764-4e32-b784-6f8b4124f918"
   },
   "outputs": [
    {
     "name": "stdout",
     "output_type": "stream",
     "text": [
      "Epoch 1/100\n",
      "235/235 [==============================] - 2s 6ms/step - loss: 0.3173 - val_loss: 0.1599\n",
      "Epoch 2/100\n",
      "235/235 [==============================] - 1s 5ms/step - loss: 0.1514 - val_loss: 0.1336\n",
      "Epoch 3/100\n",
      "235/235 [==============================] - 1s 4ms/step - loss: 0.1316 - val_loss: 0.1225\n",
      "Epoch 4/100\n",
      "235/235 [==============================] - 1s 5ms/step - loss: 0.1218 - val_loss: 0.1150\n",
      "Epoch 5/100\n",
      "235/235 [==============================] - 1s 5ms/step - loss: 0.1148 - val_loss: 0.1110\n",
      "Epoch 6/100\n",
      "235/235 [==============================] - 1s 5ms/step - loss: 0.1102 - val_loss: 0.1065\n",
      "Epoch 7/100\n",
      "235/235 [==============================] - 1s 4ms/step - loss: 0.1067 - val_loss: 0.1033\n",
      "Epoch 8/100\n",
      "235/235 [==============================] - 1s 4ms/step - loss: 0.1041 - val_loss: 0.1017\n",
      "Epoch 9/100\n",
      "235/235 [==============================] - 1s 4ms/step - loss: 0.1014 - val_loss: 0.0991\n",
      "Epoch 10/100\n",
      "235/235 [==============================] - 1s 4ms/step - loss: 0.0994 - val_loss: 0.0982\n",
      "Epoch 11/100\n",
      "235/235 [==============================] - 1s 4ms/step - loss: 0.0978 - val_loss: 0.0964\n",
      "Epoch 12/100\n",
      "235/235 [==============================] - 1s 5ms/step - loss: 0.0966 - val_loss: 0.0955\n",
      "Epoch 13/100\n",
      "235/235 [==============================] - 1s 5ms/step - loss: 0.0956 - val_loss: 0.0944\n",
      "Epoch 14/100\n",
      "235/235 [==============================] - 1s 4ms/step - loss: 0.0944 - val_loss: 0.0935\n",
      "Epoch 15/100\n",
      "235/235 [==============================] - 1s 4ms/step - loss: 0.0935 - val_loss: 0.0927\n",
      "Epoch 16/100\n",
      "235/235 [==============================] - 1s 5ms/step - loss: 0.0926 - val_loss: 0.0921\n",
      "Epoch 17/100\n",
      "235/235 [==============================] - 1s 4ms/step - loss: 0.0918 - val_loss: 0.0911\n",
      "Epoch 18/100\n",
      "235/235 [==============================] - 1s 5ms/step - loss: 0.0913 - val_loss: 0.0906\n",
      "Epoch 19/100\n",
      "235/235 [==============================] - 1s 5ms/step - loss: 0.0906 - val_loss: 0.0903\n",
      "Epoch 20/100\n",
      "235/235 [==============================] - 1s 5ms/step - loss: 0.0899 - val_loss: 0.0894\n",
      "Epoch 21/100\n",
      "235/235 [==============================] - 1s 4ms/step - loss: 0.0894 - val_loss: 0.0886\n",
      "Epoch 22/100\n",
      "235/235 [==============================] - 1s 5ms/step - loss: 0.0890 - val_loss: 0.0884\n",
      "Epoch 23/100\n",
      "235/235 [==============================] - 1s 5ms/step - loss: 0.0884 - val_loss: 0.0879\n",
      "Epoch 24/100\n",
      "235/235 [==============================] - 1s 4ms/step - loss: 0.0882 - val_loss: 0.0880\n",
      "Epoch 25/100\n",
      "235/235 [==============================] - 1s 4ms/step - loss: 0.0875 - val_loss: 0.0874\n",
      "Epoch 26/100\n",
      "235/235 [==============================] - 1s 4ms/step - loss: 0.0870 - val_loss: 0.0878\n",
      "Epoch 27/100\n",
      "235/235 [==============================] - 1s 5ms/step - loss: 0.0872 - val_loss: 0.0872\n",
      "Epoch 28/100\n",
      "235/235 [==============================] - 1s 4ms/step - loss: 0.0868 - val_loss: 0.0868\n",
      "Epoch 29/100\n",
      "235/235 [==============================] - 1s 4ms/step - loss: 0.0863 - val_loss: 0.0868\n",
      "Epoch 30/100\n",
      "235/235 [==============================] - 1s 5ms/step - loss: 0.0861 - val_loss: 0.0866\n",
      "Epoch 31/100\n",
      "235/235 [==============================] - 1s 5ms/step - loss: 0.0859 - val_loss: 0.0864\n",
      "Epoch 32/100\n",
      "235/235 [==============================] - 1s 5ms/step - loss: 0.0856 - val_loss: 0.0858\n",
      "Epoch 33/100\n",
      "235/235 [==============================] - 1s 5ms/step - loss: 0.0854 - val_loss: 0.0854\n",
      "Epoch 34/100\n",
      "235/235 [==============================] - 1s 5ms/step - loss: 0.0851 - val_loss: 0.0854\n",
      "Epoch 35/100\n",
      "235/235 [==============================] - 1s 4ms/step - loss: 0.0849 - val_loss: 0.0850\n",
      "Epoch 36/100\n",
      "235/235 [==============================] - 1s 5ms/step - loss: 0.0848 - val_loss: 0.0848\n",
      "Epoch 37/100\n",
      "235/235 [==============================] - 1s 5ms/step - loss: 0.0843 - val_loss: 0.0844\n",
      "Epoch 38/100\n",
      "235/235 [==============================] - 1s 4ms/step - loss: 0.0841 - val_loss: 0.0845\n",
      "Epoch 39/100\n",
      "235/235 [==============================] - 1s 5ms/step - loss: 0.0842 - val_loss: 0.0841\n",
      "Epoch 40/100\n",
      "235/235 [==============================] - 1s 5ms/step - loss: 0.0840 - val_loss: 0.0840\n",
      "Epoch 41/100\n",
      "235/235 [==============================] - 1s 4ms/step - loss: 0.0838 - val_loss: 0.0844\n",
      "Epoch 42/100\n",
      "235/235 [==============================] - 1s 5ms/step - loss: 0.0836 - val_loss: 0.0838\n",
      "Epoch 43/100\n",
      "235/235 [==============================] - 1s 5ms/step - loss: 0.0835 - val_loss: 0.0838\n",
      "Epoch 44/100\n",
      "235/235 [==============================] - 1s 5ms/step - loss: 0.0833 - val_loss: 0.0837\n",
      "Epoch 45/100\n",
      "235/235 [==============================] - 1s 4ms/step - loss: 0.0832 - val_loss: 0.0832\n",
      "Epoch 46/100\n",
      "235/235 [==============================] - 1s 5ms/step - loss: 0.0830 - val_loss: 0.0835\n",
      "Epoch 47/100\n",
      "235/235 [==============================] - 1s 4ms/step - loss: 0.0829 - val_loss: 0.0830\n",
      "Epoch 48/100\n",
      "235/235 [==============================] - 1s 5ms/step - loss: 0.0826 - val_loss: 0.0829\n",
      "Epoch 49/100\n",
      "235/235 [==============================] - 1s 5ms/step - loss: 0.0825 - val_loss: 0.0833\n",
      "Epoch 50/100\n",
      "235/235 [==============================] - 1s 5ms/step - loss: 0.0826 - val_loss: 0.0825\n",
      "Epoch 51/100\n",
      "235/235 [==============================] - 1s 5ms/step - loss: 0.0822 - val_loss: 0.0829\n",
      "Epoch 52/100\n",
      "235/235 [==============================] - 1s 4ms/step - loss: 0.0822 - val_loss: 0.0822\n",
      "Epoch 53/100\n",
      "235/235 [==============================] - 1s 4ms/step - loss: 0.0820 - val_loss: 0.0825\n",
      "Epoch 54/100\n",
      "235/235 [==============================] - 1s 5ms/step - loss: 0.0819 - val_loss: 0.0827\n",
      "Epoch 55/100\n",
      "235/235 [==============================] - 1s 5ms/step - loss: 0.0819 - val_loss: 0.0824\n",
      "Epoch 56/100\n",
      "235/235 [==============================] - 1s 5ms/step - loss: 0.0815 - val_loss: 0.0820\n",
      "Epoch 57/100\n",
      "235/235 [==============================] - 1s 4ms/step - loss: 0.0813 - val_loss: 0.0817\n",
      "Epoch 58/100\n",
      "235/235 [==============================] - 1s 5ms/step - loss: 0.0812 - val_loss: 0.0821\n",
      "Epoch 59/100\n",
      "235/235 [==============================] - 1s 5ms/step - loss: 0.0810 - val_loss: 0.0815\n",
      "Epoch 60/100\n",
      "235/235 [==============================] - 1s 4ms/step - loss: 0.0810 - val_loss: 0.0815\n",
      "Epoch 61/100\n",
      "235/235 [==============================] - 1s 5ms/step - loss: 0.0810 - val_loss: 0.0818\n",
      "Epoch 62/100\n",
      "235/235 [==============================] - 1s 4ms/step - loss: 0.0810 - val_loss: 0.0819\n",
      "Epoch 63/100\n",
      "235/235 [==============================] - 1s 4ms/step - loss: 0.0808 - val_loss: 0.0816\n",
      "Epoch 64/100\n",
      "235/235 [==============================] - 1s 4ms/step - loss: 0.0808 - val_loss: 0.0817\n",
      "Epoch 65/100\n",
      "235/235 [==============================] - 1s 5ms/step - loss: 0.0805 - val_loss: 0.0811\n",
      "Epoch 66/100\n",
      "235/235 [==============================] - 1s 5ms/step - loss: 0.0805 - val_loss: 0.0810\n",
      "Epoch 67/100\n",
      "235/235 [==============================] - 1s 5ms/step - loss: 0.0807 - val_loss: 0.0810\n",
      "Epoch 68/100\n",
      "235/235 [==============================] - 1s 5ms/step - loss: 0.0801 - val_loss: 0.0809\n",
      "Epoch 69/100\n",
      "235/235 [==============================] - 1s 5ms/step - loss: 0.0804 - val_loss: 0.0808\n",
      "Epoch 70/100\n",
      "235/235 [==============================] - 1s 5ms/step - loss: 0.0802 - val_loss: 0.0813\n",
      "Epoch 71/100\n",
      "235/235 [==============================] - 1s 5ms/step - loss: 0.0803 - val_loss: 0.0814\n",
      "Epoch 72/100\n",
      "235/235 [==============================] - 1s 4ms/step - loss: 0.0800 - val_loss: 0.0808\n",
      "Epoch 73/100\n",
      "235/235 [==============================] - 1s 5ms/step - loss: 0.0804 - val_loss: 0.0806\n",
      "Epoch 74/100\n",
      "235/235 [==============================] - 1s 5ms/step - loss: 0.0802 - val_loss: 0.0807\n",
      "Epoch 75/100\n",
      "235/235 [==============================] - 1s 5ms/step - loss: 0.0799 - val_loss: 0.0808\n",
      "Epoch 76/100\n",
      "235/235 [==============================] - 1s 5ms/step - loss: 0.0802 - val_loss: 0.0805\n",
      "Epoch 77/100\n",
      "235/235 [==============================] - 1s 5ms/step - loss: 0.0800 - val_loss: 0.0805\n",
      "Epoch 78/100\n",
      "235/235 [==============================] - 1s 5ms/step - loss: 0.0799 - val_loss: 0.0805\n",
      "Epoch 79/100\n",
      "235/235 [==============================] - 1s 4ms/step - loss: 0.0797 - val_loss: 0.0806\n",
      "Epoch 80/100\n",
      "235/235 [==============================] - 1s 5ms/step - loss: 0.0796 - val_loss: 0.0805\n",
      "Epoch 81/100\n",
      "235/235 [==============================] - 1s 5ms/step - loss: 0.0798 - val_loss: 0.0803\n",
      "Epoch 82/100\n",
      "235/235 [==============================] - 1s 5ms/step - loss: 0.0797 - val_loss: 0.0810\n",
      "Epoch 83/100\n",
      "235/235 [==============================] - 1s 5ms/step - loss: 0.0797 - val_loss: 0.0805\n",
      "Epoch 84/100\n",
      "235/235 [==============================] - 1s 4ms/step - loss: 0.0794 - val_loss: 0.0803\n",
      "Epoch 85/100\n",
      "235/235 [==============================] - 1s 5ms/step - loss: 0.0796 - val_loss: 0.0800\n",
      "Epoch 86/100\n",
      "235/235 [==============================] - 1s 5ms/step - loss: 0.0795 - val_loss: 0.0805\n",
      "Epoch 87/100\n",
      "235/235 [==============================] - 1s 5ms/step - loss: 0.0794 - val_loss: 0.0802\n",
      "Epoch 88/100\n",
      "235/235 [==============================] - 1s 5ms/step - loss: 0.0793 - val_loss: 0.0804\n",
      "Epoch 89/100\n",
      "235/235 [==============================] - 1s 5ms/step - loss: 0.0792 - val_loss: 0.0801\n",
      "Epoch 90/100\n",
      "235/235 [==============================] - 1s 5ms/step - loss: 0.0791 - val_loss: 0.0803\n",
      "Epoch 91/100\n",
      "235/235 [==============================] - 1s 5ms/step - loss: 0.0794 - val_loss: 0.0801\n",
      "Epoch 92/100\n",
      "235/235 [==============================] - 1s 5ms/step - loss: 0.0792 - val_loss: 0.0803\n",
      "Epoch 93/100\n",
      "235/235 [==============================] - 1s 5ms/step - loss: 0.0791 - val_loss: 0.0799\n",
      "Epoch 94/100\n",
      "235/235 [==============================] - 1s 5ms/step - loss: 0.0791 - val_loss: 0.0800\n",
      "Epoch 95/100\n",
      "235/235 [==============================] - 1s 5ms/step - loss: 0.0791 - val_loss: 0.0797\n",
      "Epoch 96/100\n",
      "235/235 [==============================] - 1s 4ms/step - loss: 0.0791 - val_loss: 0.0800\n",
      "Epoch 97/100\n",
      "235/235 [==============================] - 1s 5ms/step - loss: 0.0790 - val_loss: 0.0804\n",
      "Epoch 98/100\n",
      "235/235 [==============================] - 1s 4ms/step - loss: 0.0791 - val_loss: 0.0800\n",
      "Epoch 99/100\n",
      "235/235 [==============================] - 1s 4ms/step - loss: 0.0789 - val_loss: 0.0800\n",
      "Epoch 100/100\n",
      "235/235 [==============================] - 1s 4ms/step - loss: 0.0790 - val_loss: 0.0800\n"
     ]
    },
    {
     "data": {
      "text/plain": [
       "<keras.callbacks.History at 0x7effc248cdd0>"
      ]
     },
     "execution_count": 47,
     "metadata": {
      "tags": []
     },
     "output_type": "execute_result"
    }
   ],
   "source": [
    "# Autoencoder (encoder -> decoder)\n",
    "autoencoder = keras.Model(input_img, decoded)\n",
    "autoencoder.compile(optimizer='adam', loss='binary_crossentropy')\n",
    "\n",
    "# Encoder\n",
    "encoder = keras.Model(input_img, encoded)\n",
    "\n",
    "# Training\n",
    "autoencoder.fit(x_train, x_train,\n",
    "                epochs=100,\n",
    "                batch_size=256,\n",
    "                shuffle=True,\n",
    "                validation_data=(x_test, x_test))"
   ]
  },
  {
   "cell_type": "code",
   "execution_count": 48,
   "metadata": {
    "colab": {
     "base_uri": "https://localhost:8080/"
    },
    "id": "BW0Ryqs-BE44",
    "outputId": "d9624823-99c0-4d8b-a7cd-e1d8b068482a"
   },
   "outputs": [
    {
     "name": "stdout",
     "output_type": "stream",
     "text": [
      "(60000, 32)\n",
      "(10000, 32)\n"
     ]
    }
   ],
   "source": [
    "x_train_comp = encoder.predict(x_train)\n",
    "x_test_comp = encoder.predict(x_test)\n",
    "\n",
    "print(x_train_comp.shape)\n",
    "print(x_test_comp.shape)"
   ]
  },
  {
   "cell_type": "code",
   "execution_count": 49,
   "metadata": {
    "colab": {
     "base_uri": "https://localhost:8080/"
    },
    "id": "QZjpMIAZN46D",
    "outputId": "849c9a44-76db-4256-fb53-c659bcb0149c"
   },
   "outputs": [
    {
     "name": "stdout",
     "output_type": "stream",
     "text": [
      "70000\n"
     ]
    }
   ],
   "source": [
    "img_to_label = dict()\n",
    "\n",
    "for i in range(x_train_comp.shape[0]):\n",
    "  img_to_label[str(x_train_comp[i])] = y_train[i]\n",
    "\n",
    "for i in range(x_test_comp.shape[0]):\n",
    "  img_to_label[str(x_test_comp[i])] = y_test[i]\n",
    "\n",
    "print(len(img_to_label))"
   ]
  },
  {
   "cell_type": "markdown",
   "metadata": {
    "id": "zXKw4LSYDIW4"
   },
   "source": [
    "# Iterative K-Means Clustering"
   ]
  },
  {
   "cell_type": "code",
   "execution_count": 51,
   "metadata": {
    "colab": {
     "base_uri": "https://localhost:8080/"
    },
    "id": "pB2vBHSMTrIQ",
    "outputId": "0388cdd6-8fe2-45bb-97fd-48929ea95ce6"
   },
   "outputs": [
    {
     "name": "stdout",
     "output_type": "stream",
     "text": [
      "K\tAccuracy\n",
      "10\t0.5652\n",
      "20\t0.708\n",
      "40\t0.7996\n",
      "80\t0.8785\n",
      "160\t0.9045\n"
     ]
    }
   ],
   "source": [
    "from sklearn.cluster import KMeans\n",
    "from sklearn.metrics import mean_squared_error, accuracy_score\n",
    "import numpy as np\n",
    "\n",
    "print('K\\tAccuracy')\n",
    "\n",
    "k = 10\n",
    "accs = [] # List of tuples (k, accuracy)\n",
    "while True:\n",
    "  # Run k-means clustering with k clusterss\n",
    "  kmeans = KMeans(n_clusters=k, random_state=0).fit(x_train_comp)\n",
    "\n",
    "  # Assign label to each cluster based on the medoid of the cluster\n",
    "  cluster_to_label = dict()\n",
    "  for cluster in range(k):\n",
    "    centroid = kmeans.cluster_centers_[cluster]\n",
    "    cluster_imgs = x_train_comp[np.where(kmeans.labels_ == cluster)]\n",
    "    cluster_dists = [mean_squared_error(centroid, img) for img in cluster_imgs]\n",
    "    cluster_dist_min = min(cluster_dists)\n",
    "    medoid_idx = cluster_dists.index(cluster_dist_min)\n",
    "    medoid_img = cluster_imgs[medoid_idx]\n",
    "    medoid_label = img_to_label[str(medoid_img)]\n",
    "    cluster_to_label[cluster] = medoid_label\n",
    "\n",
    "  # Predict labels and get accuracy\n",
    "  cluster_labels = kmeans.predict(x_test_comp)\n",
    "  preds = np.array(list(map(lambda n: cluster_to_label[n], cluster_labels)))\n",
    "  acc = accuracy_score(y_test, preds)\n",
    "\n",
    "  accs.append((k, acc))\n",
    "  print(str(k) + '\\t' + str(acc))\n",
    "\n",
    "  if acc < 0.9:\n",
    "    k *= 2 # Double number of clusters with each iteration\n",
    "  else:\n",
    "    break"
   ]
  },
  {
   "cell_type": "code",
   "execution_count": 52,
   "metadata": {
    "colab": {
     "base_uri": "https://localhost:8080/"
    },
    "id": "NKiSgfHpW4X7",
    "outputId": "7799541b-94ba-43f2-8551-2d01f5f28101"
   },
   "outputs": [
    {
     "name": "stdout",
     "output_type": "stream",
     "text": [
      "310\n"
     ]
    }
   ],
   "source": [
    "imgs_queried = sum([t[0] for t in accs])\n",
    "print(imgs_queried)"
   ]
  },
  {
   "cell_type": "code",
   "execution_count": 55,
   "metadata": {
    "colab": {
     "base_uri": "https://localhost:8080/",
     "height": 265
    },
    "id": "3o7nOtsUaSy1",
    "outputId": "8059040a-f22e-491d-83f1-3875fb9175f5"
   },
   "outputs": [
    {
     "data": {
      "image/png": "[encoded data removed]",
      "text/plain": [
       "<Figure size 432x288 with 1 Axes>"
      ]
     },
     "metadata": {
      "needs_background": "light",
      "tags": []
     },
     "output_type": "display_data"
    }
   ],
   "source": [
    "import matplotlib.pyplot as plt\n",
    "\n",
    "xs = list(map(lambda t: t[0], accs))\n",
    "ys = list(map(lambda t: t[1], accs))\n",
    "\n",
    "plt.scatter(xs, ys)\n",
    "plt.plot([0, accs[-1][0]], [0.9, 0.9], 'k:', lw=2)\n",
    "plt.show()"
   ]
  }
 ],
 "metadata": {
  "accelerator": "GPU",
  "colab": {
   "name": "MNIST_Unsupervised.ipynb",
   "provenance": []
  },
  "kernelspec": {
   "display_name": "Python 3",
   "language": "python",
   "name": "python3"
  },
  "language_info": {
   "codemirror_mode": {
    "name": "ipython",
    "version": 3
   },
   "file_extension": ".py",
   "mimetype": "text/x-python",
   "name": "python",
   "nbconvert_exporter": "python",
   "pygments_lexer": "ipython3",
   "version": "3.8.5"
  }
 },
 "nbformat": 4,
 "nbformat_minor": 4
}
